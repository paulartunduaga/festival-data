{
 "cells": [
  {
   "cell_type": "markdown",
   "metadata": {},
   "source": [
    "# Festival Data Analysis "
   ]
  },
  {
   "cell_type": "markdown",
   "metadata": {},
   "source": [
    "## Pull Data from GCP"
   ]
  },
  {
   "cell_type": "markdown",
   "metadata": {},
   "source": [
    "SQL_Query = SELECT * FROM tmint-ci-interview.sample_dataset.sample_data;"
   ]
  },
  {
   "cell_type": "markdown",
   "metadata": {},
   "source": [
    "## Import Libraries "
   ]
  },
  {
   "cell_type": "code",
   "execution_count": 1,
   "metadata": {},
   "outputs": [],
   "source": [
    "#import necessary libraries \n",
    "\n",
    "import pandas as pd\n",
    "import matplotlib.pyplot as plt \n",
    "import seaborn as sns\n",
    "import warnings\n",
    "\n",
    "warnings.simplefilter(action='ignore', category=FutureWarning)\n",
    "\n",
    "from sklearn.cluster import KMeans\n",
    "\n",
    "from sklearn.preprocessing import LabelEncoder\n",
    "\n",
    "from sklearn.preprocessing import StandardScaler"
   ]
  },
  {
   "cell_type": "markdown",
   "metadata": {},
   "source": [
    "## Import data from local "
   ]
  },
  {
   "cell_type": "code",
   "execution_count": 2,
   "metadata": {},
   "outputs": [],
   "source": [
    "#import dataset\n",
    "\n",
    "dataset = pd.read_csv('~/Desktop/bq-results-20210206-104302-mhndx9vrkh15.csv')"
   ]
  },
  {
   "cell_type": "markdown",
   "metadata": {},
   "source": [
    "## Preliminary Analysis and Data Cleaning"
   ]
  },
  {
   "cell_type": "code",
   "execution_count": 3,
   "metadata": {},
   "outputs": [
    {
     "data": {
      "text/plain": [
       "433"
      ]
     },
     "execution_count": 3,
     "metadata": {},
     "output_type": "execute_result"
    }
   ],
   "source": [
    "#indentify number of unique orders\n",
    "\n",
    "dataset['customer_id'].nunique()"
   ]
  },
  {
   "cell_type": "code",
   "execution_count": 4,
   "metadata": {},
   "outputs": [],
   "source": [
    "#keep only first order, sorted by date\n",
    "\n",
    "dataset.sort_values(by=['order_date'], inplace=True)\n",
    "\n",
    "dataset.drop_duplicates(subset='customer_id', keep='first', inplace=True)"
   ]
  },
  {
   "cell_type": "code",
   "execution_count": 5,
   "metadata": {},
   "outputs": [
    {
     "data": {
      "text/html": [
       "<div>\n",
       "<style scoped>\n",
       "    .dataframe tbody tr th:only-of-type {\n",
       "        vertical-align: middle;\n",
       "    }\n",
       "\n",
       "    .dataframe tbody tr th {\n",
       "        vertical-align: top;\n",
       "    }\n",
       "\n",
       "    .dataframe thead th {\n",
       "        text-align: right;\n",
       "    }\n",
       "</style>\n",
       "<table border=\"1\" class=\"dataframe\">\n",
       "  <thead>\n",
       "    <tr style=\"text-align: right;\">\n",
       "      <th></th>\n",
       "      <th>order_id</th>\n",
       "      <th>customer_id</th>\n",
       "      <th>event_onsale_date</th>\n",
       "      <th>order_date</th>\n",
       "      <th>ticket_type</th>\n",
       "      <th>ticket_level</th>\n",
       "      <th>payment_type</th>\n",
       "      <th>customer_age_band</th>\n",
       "      <th>ticket_qty</th>\n",
       "      <th>ticket_value</th>\n",
       "      <th>customer_previous_purchase_flag</th>\n",
       "      <th>customer_previous_purchase_festival_flag</th>\n",
       "      <th>customer_previous_purchase_music_flag</th>\n",
       "      <th>customer_previous_purchase_theatre_flag</th>\n",
       "      <th>customer_previous_purchase_sport_flag</th>\n",
       "    </tr>\n",
       "  </thead>\n",
       "  <tbody>\n",
       "    <tr>\n",
       "      <th>370</th>\n",
       "      <td>39</td>\n",
       "      <td>1039</td>\n",
       "      <td>1997-01-01</td>\n",
       "      <td>1997-01-01</td>\n",
       "      <td>Camping</td>\n",
       "      <td>P2</td>\n",
       "      <td>Full</td>\n",
       "      <td>30-40</td>\n",
       "      <td>1</td>\n",
       "      <td>78.75</td>\n",
       "      <td>1</td>\n",
       "      <td>0</td>\n",
       "      <td>1</td>\n",
       "      <td>0</td>\n",
       "      <td>0</td>\n",
       "    </tr>\n",
       "    <tr>\n",
       "      <th>387</th>\n",
       "      <td>45</td>\n",
       "      <td>1045</td>\n",
       "      <td>1997-01-01</td>\n",
       "      <td>1997-01-01</td>\n",
       "      <td>Camping</td>\n",
       "      <td>P2</td>\n",
       "      <td>Full</td>\n",
       "      <td>40-50</td>\n",
       "      <td>2</td>\n",
       "      <td>157.50</td>\n",
       "      <td>1</td>\n",
       "      <td>1</td>\n",
       "      <td>1</td>\n",
       "      <td>0</td>\n",
       "      <td>0</td>\n",
       "    </tr>\n",
       "    <tr>\n",
       "      <th>385</th>\n",
       "      <td>34</td>\n",
       "      <td>1034</td>\n",
       "      <td>1997-01-01</td>\n",
       "      <td>1997-01-01</td>\n",
       "      <td>Camping</td>\n",
       "      <td>P2</td>\n",
       "      <td>Full</td>\n",
       "      <td>40-50</td>\n",
       "      <td>2</td>\n",
       "      <td>157.50</td>\n",
       "      <td>1</td>\n",
       "      <td>1</td>\n",
       "      <td>0</td>\n",
       "      <td>0</td>\n",
       "      <td>0</td>\n",
       "    </tr>\n",
       "    <tr>\n",
       "      <th>384</th>\n",
       "      <td>15</td>\n",
       "      <td>1015</td>\n",
       "      <td>1997-01-01</td>\n",
       "      <td>1997-01-01</td>\n",
       "      <td>Camping</td>\n",
       "      <td>P2</td>\n",
       "      <td>Full</td>\n",
       "      <td>15-20</td>\n",
       "      <td>1</td>\n",
       "      <td>78.75</td>\n",
       "      <td>1</td>\n",
       "      <td>1</td>\n",
       "      <td>0</td>\n",
       "      <td>0</td>\n",
       "      <td>0</td>\n",
       "    </tr>\n",
       "    <tr>\n",
       "      <th>383</th>\n",
       "      <td>40</td>\n",
       "      <td>1040</td>\n",
       "      <td>1997-01-01</td>\n",
       "      <td>1997-01-01</td>\n",
       "      <td>Camping</td>\n",
       "      <td>P2</td>\n",
       "      <td>Installment</td>\n",
       "      <td>15-20</td>\n",
       "      <td>1</td>\n",
       "      <td>78.75</td>\n",
       "      <td>1</td>\n",
       "      <td>1</td>\n",
       "      <td>1</td>\n",
       "      <td>0</td>\n",
       "      <td>0</td>\n",
       "    </tr>\n",
       "  </tbody>\n",
       "</table>\n",
       "</div>"
      ],
      "text/plain": [
       "     order_id  customer_id event_onsale_date  order_date ticket_type  \\\n",
       "370        39         1039        1997-01-01  1997-01-01     Camping   \n",
       "387        45         1045        1997-01-01  1997-01-01     Camping   \n",
       "385        34         1034        1997-01-01  1997-01-01     Camping   \n",
       "384        15         1015        1997-01-01  1997-01-01     Camping   \n",
       "383        40         1040        1997-01-01  1997-01-01     Camping   \n",
       "\n",
       "    ticket_level payment_type customer_age_band  ticket_qty  ticket_value  \\\n",
       "370           P2         Full             30-40           1         78.75   \n",
       "387           P2         Full             40-50           2        157.50   \n",
       "385           P2         Full             40-50           2        157.50   \n",
       "384           P2         Full             15-20           1         78.75   \n",
       "383           P2  Installment             15-20           1         78.75   \n",
       "\n",
       "     customer_previous_purchase_flag  \\\n",
       "370                                1   \n",
       "387                                1   \n",
       "385                                1   \n",
       "384                                1   \n",
       "383                                1   \n",
       "\n",
       "     customer_previous_purchase_festival_flag  \\\n",
       "370                                         0   \n",
       "387                                         1   \n",
       "385                                         1   \n",
       "384                                         1   \n",
       "383                                         1   \n",
       "\n",
       "     customer_previous_purchase_music_flag  \\\n",
       "370                                      1   \n",
       "387                                      1   \n",
       "385                                      0   \n",
       "384                                      0   \n",
       "383                                      1   \n",
       "\n",
       "     customer_previous_purchase_theatre_flag  \\\n",
       "370                                        0   \n",
       "387                                        0   \n",
       "385                                        0   \n",
       "384                                        0   \n",
       "383                                        0   \n",
       "\n",
       "     customer_previous_purchase_sport_flag  \n",
       "370                                      0  \n",
       "387                                      0  \n",
       "385                                      0  \n",
       "384                                      0  \n",
       "383                                      0  "
      ]
     },
     "execution_count": 5,
     "metadata": {},
     "output_type": "execute_result"
    }
   ],
   "source": [
    "#visualise table\n",
    "\n",
    "dataset.head()"
   ]
  },
  {
   "cell_type": "code",
   "execution_count": 6,
   "metadata": {},
   "outputs": [
    {
     "data": {
      "text/plain": [
       "<AxesSubplot:xlabel='customer_age_band'>"
      ]
     },
     "execution_count": 6,
     "metadata": {},
     "output_type": "execute_result"
    },
    {
     "data": {
      "image/png": "[encoded data removed]",
      "text/plain": [
       "<Figure size 432x288 with 1 Axes>"
      ]
     },
     "metadata": {
      "needs_background": "light"
     },
     "output_type": "display_data"
    }
   ],
   "source": [
    "#exploring distribution of revenue over different age bands \n",
    "\n",
    "dataset.groupby(['customer_age_band'])['ticket_value'].sum().plot(kind='bar')"
   ]
  },
  {
   "cell_type": "code",
   "execution_count": 7,
   "metadata": {
    "scrolled": true
   },
   "outputs": [
    {
     "data": {
      "text/plain": [
       "<AxesSubplot:xlabel='customer_age_band'>"
      ]
     },
     "execution_count": 7,
     "metadata": {},
     "output_type": "execute_result"
    },
    {
     "data": {
      "image/png": "[encoded data removed]",
      "text/plain": [
       "<Figure size 432x288 with 1 Axes>"
      ]
     },
     "metadata": {
      "needs_background": "light"
     },
     "output_type": "display_data"
    }
   ],
   "source": [
    "#exploring average spend per order over different age bands\n",
    "\n",
    "dataset.groupby(['customer_age_band'])['ticket_value'].mean().plot(kind='bar')"
   ]
  },
  {
   "cell_type": "markdown",
   "metadata": {},
   "source": [
    "Looking at the above two graphs, we can see that the majority of revenue comes from 15-50 age bands. However, the highest spenders per order we 50-60. The spread in terms of the ages of people who you would typically expect at a festival 15-50, is surprisingly even."
   ]
  },
  {
   "cell_type": "code",
   "execution_count": 8,
   "metadata": {},
   "outputs": [
    {
     "data": {
      "text/plain": [
       "<seaborn.axisgrid.FacetGrid at 0x12a5b1110>"
      ]
     },
     "execution_count": 8,
     "metadata": {},
     "output_type": "execute_result"
    },
    {
     "data": {
      "image/png": "[encoded data removed]",
      "text/plain": [
       "<Figure size 900x360 with 8 Axes>"
      ]
     },
     "metadata": {
      "needs_background": "light"
     },
     "output_type": "display_data"
    }
   ],
   "source": [
    "#type of payment by customer age band\n",
    "\n",
    "new_var=dataset[['payment_type', 'customer_age_band']]\n",
    "sns.catplot('payment_type', col='customer_age_band', data=new_var, kind='count', height=2.5, aspect=1, col_wrap=5)"
   ]
  },
  {
   "cell_type": "code",
   "execution_count": 9,
   "metadata": {},
   "outputs": [
    {
     "data": {
      "text/plain": [
       "customer_previous_purchase_festival_flag\n",
       "0    2.674157\n",
       "1    1.875000\n",
       "Name: ticket_qty, dtype: float64"
      ]
     },
     "execution_count": 9,
     "metadata": {},
     "output_type": "execute_result"
    }
   ],
   "source": [
    "#average number of tickets bought per order grouped by previous festival vs no previous festival\n",
    "#about 50% increase in number of tickets per order\n",
    "\n",
    "dataset.groupby(['customer_previous_purchase_festival_flag'])['ticket_qty'].mean()"
   ]
  },
  {
   "cell_type": "code",
   "execution_count": 10,
   "metadata": {},
   "outputs": [
    {
     "data": {
      "text/plain": [
       "customer_previous_purchase_festival_flag  ticket_type\n",
       "0                                         Camping         41\n",
       "                                          Day             48\n",
       "1                                         Camping        184\n",
       "                                          Day            160\n",
       "Name: customer_id, dtype: int64"
      ]
     },
     "execution_count": 10,
     "metadata": {},
     "output_type": "execute_result"
    }
   ],
   "source": [
    "#day vs camping grouped by previous festival vs no previous festival\n",
    "\n",
    "dataset.groupby(['customer_previous_purchase_festival_flag', 'ticket_type'])['customer_id'].count()"
   ]
  },
  {
   "cell_type": "code",
   "execution_count": 11,
   "metadata": {},
   "outputs": [],
   "source": [
    "_1997 = dataset.groupby(['event_onsale_date'])['ticket_qty'].sum()[0]\n",
    "_1998 = dataset.groupby(['event_onsale_date'])['ticket_qty'].sum()[1]\n",
    "_1999 = dataset.groupby(['event_onsale_date'])['ticket_qty'].sum()[2]\n",
    "pct_change1 = ((_1998 - _1997) / _1997) * 100\n",
    "pct_change2 = ((_1999 - _1998) / _1998) * 100"
   ]
  },
  {
   "cell_type": "code",
   "execution_count": 12,
   "metadata": {},
   "outputs": [
    {
     "data": {
      "text/plain": [
       "-48.842592592592595"
      ]
     },
     "execution_count": 12,
     "metadata": {},
     "output_type": "execute_result"
    }
   ],
   "source": [
    "pct_change1"
   ]
  },
  {
   "cell_type": "code",
   "execution_count": 13,
   "metadata": {},
   "outputs": [
    {
     "data": {
      "text/plain": [
       "4.072398190045249"
      ]
     },
     "execution_count": 13,
     "metadata": {},
     "output_type": "execute_result"
    }
   ],
   "source": [
    "pct_change2"
   ]
  },
  {
   "cell_type": "code",
   "execution_count": 14,
   "metadata": {},
   "outputs": [
    {
     "data": {
      "text/plain": [
       "<AxesSubplot:xlabel='event_onsale_date'>"
      ]
     },
     "execution_count": 14,
     "metadata": {},
     "output_type": "execute_result"
    },
    {
     "data": {
      "image/png": "[encoded data removed]",
      "text/plain": [
       "<Figure size 432x288 with 1 Axes>"
      ]
     },
     "metadata": {
      "needs_background": "light"
     },
     "output_type": "display_data"
    }
   ],
   "source": [
    "#number of tickets sold per year\n",
    "\n",
    "dataset.groupby(['event_onsale_date'])['ticket_qty'].sum().plot(kind='bar')\n",
    "\n"
   ]
  },
  {
   "cell_type": "code",
   "execution_count": 15,
   "metadata": {},
   "outputs": [
    {
     "data": {
      "text/plain": [
       "<AxesSubplot:xlabel='event_onsale_date'>"
      ]
     },
     "execution_count": 15,
     "metadata": {},
     "output_type": "execute_result"
    },
    {
     "data": {
      "image/png": "[encoded data removed]",
      "text/plain": [
       "<Figure size 432x288 with 1 Axes>"
      ]
     },
     "metadata": {
      "needs_background": "light"
     },
     "output_type": "display_data"
    }
   ],
   "source": [
    "#revenue per year\n",
    "\n",
    "dataset.groupby(['event_onsale_date'])['ticket_value'].sum().plot(kind='bar')"
   ]
  },
  {
   "cell_type": "code",
   "execution_count": 16,
   "metadata": {},
   "outputs": [
    {
     "data": {
      "text/plain": [
       "event_onsale_date\n",
       "1997-01-01    186.693750\n",
       "1998-01-01    135.009690\n",
       "1999-01-01    205.408654\n",
       "dtype: float64"
      ]
     },
     "execution_count": 16,
     "metadata": {},
     "output_type": "execute_result"
    }
   ],
   "source": [
    "#average revenue per order across three different years\n",
    "\n",
    "dataset.groupby('event_onsale_date')['ticket_value'].sum() / dataset.groupby('event_onsale_date')['ticket_qty'].count()"
   ]
  },
  {
   "cell_type": "code",
   "execution_count": 17,
   "metadata": {},
   "outputs": [
    {
     "data": {
      "text/plain": [
       "<AxesSubplot:xlabel='order_date'>"
      ]
     },
     "execution_count": 17,
     "metadata": {},
     "output_type": "execute_result"
    },
    {
     "data": {
      "image/png": "[encoded data removed]",
      "text/plain": [
       "<Figure size 720x288 with 1 Axes>"
      ]
     },
     "metadata": {
      "needs_background": "light"
     },
     "output_type": "display_data"
    }
   ],
   "source": [
    "dataset.loc[dataset['event_onsale_date']=='1997-01-01'].groupby('order_date')['ticket_qty'].sum().plot(kind='bar', figsize=(10,4))"
   ]
  },
  {
   "cell_type": "code",
   "execution_count": 18,
   "metadata": {},
   "outputs": [
    {
     "data": {
      "text/plain": [
       "<AxesSubplot:xlabel='order_date'>"
      ]
     },
     "execution_count": 18,
     "metadata": {},
     "output_type": "execute_result"
    },
    {
     "data": {
      "image/png": "[encoded data removed]",
      "text/plain": [
       "<Figure size 720x288 with 1 Axes>"
      ]
     },
     "metadata": {
      "needs_background": "light"
     },
     "output_type": "display_data"
    }
   ],
   "source": [
    "dataset.loc[dataset['event_onsale_date']=='1998-01-01'].groupby('order_date')['ticket_qty'].sum().plot(kind='bar', figsize=(10,4))"
   ]
  },
  {
   "cell_type": "code",
   "execution_count": 19,
   "metadata": {
    "scrolled": true
   },
   "outputs": [
    {
     "data": {
      "text/plain": [
       "<AxesSubplot:xlabel='order_date'>"
      ]
     },
     "execution_count": 19,
     "metadata": {},
     "output_type": "execute_result"
    },
    {
     "data": {
      "image/png": "[encoded data removed]",
      "text/plain": [
       "<Figure size 720x288 with 1 Axes>"
      ]
     },
     "metadata": {
      "needs_background": "light"
     },
     "output_type": "display_data"
    }
   ],
   "source": [
    "dataset.loc[dataset['event_onsale_date']=='1999-01-01'].groupby('order_date')['ticket_qty'].sum().plot(kind='bar', figsize=(10,4))"
   ]
  },
  {
   "cell_type": "markdown",
   "metadata": {},
   "source": [
    "## Cluster Analysis"
   ]
  },
  {
   "cell_type": "markdown",
   "metadata": {},
   "source": [
    "#### Data Preprocessing "
   ]
  },
  {
   "cell_type": "code",
   "execution_count": 20,
   "metadata": {},
   "outputs": [],
   "source": [
    "#drop columns that cant be scaled or that offer no information\n",
    "\n",
    "dataset.drop(['event_onsale_date', 'order_id', 'customer_id', 'order_date'], axis=1, inplace=True)\n",
    "\n",
    "categoricals = ['ticket_type', 'ticket_level', 'customer_age_band', 'payment_type']\n",
    "\n",
    "dataset_encoded = dataset.copy()\n",
    "\n",
    "#label encoding for categorical features\n",
    "\n",
    "labelencoder=LabelEncoder()\n",
    "for column in categoricals:\n",
    "    dataset_encoded[column] = labelencoder.fit_transform(dataset_encoded[column])"
   ]
  },
  {
   "cell_type": "markdown",
   "metadata": {},
   "source": [
    "#### Scaling Features"
   ]
  },
  {
   "cell_type": "code",
   "execution_count": 21,
   "metadata": {},
   "outputs": [
    {
     "data": {
      "text/html": [
       "<div>\n",
       "<style scoped>\n",
       "    .dataframe tbody tr th:only-of-type {\n",
       "        vertical-align: middle;\n",
       "    }\n",
       "\n",
       "    .dataframe tbody tr th {\n",
       "        vertical-align: top;\n",
       "    }\n",
       "\n",
       "    .dataframe thead th {\n",
       "        text-align: right;\n",
       "    }\n",
       "</style>\n",
       "<table border=\"1\" class=\"dataframe\">\n",
       "  <thead>\n",
       "    <tr style=\"text-align: right;\">\n",
       "      <th></th>\n",
       "      <th>ticket_type</th>\n",
       "      <th>ticket_level</th>\n",
       "      <th>payment_type</th>\n",
       "      <th>customer_age_band</th>\n",
       "      <th>ticket_qty</th>\n",
       "      <th>ticket_value</th>\n",
       "      <th>customer_previous_purchase_flag</th>\n",
       "      <th>customer_previous_purchase_festival_flag</th>\n",
       "      <th>customer_previous_purchase_music_flag</th>\n",
       "      <th>customer_previous_purchase_theatre_flag</th>\n",
       "      <th>customer_previous_purchase_sport_flag</th>\n",
       "    </tr>\n",
       "  </thead>\n",
       "  <tbody>\n",
       "    <tr>\n",
       "      <th>0</th>\n",
       "      <td>-0.961480</td>\n",
       "      <td>0.755588</td>\n",
       "      <td>-0.637059</td>\n",
       "      <td>0.043059</td>\n",
       "      <td>-0.623154</td>\n",
       "      <td>-0.605480</td>\n",
       "      <td>0.361315</td>\n",
       "      <td>-1.966003</td>\n",
       "      <td>1.152370</td>\n",
       "      <td>-0.153755</td>\n",
       "      <td>-0.242239</td>\n",
       "    </tr>\n",
       "    <tr>\n",
       "      <th>1</th>\n",
       "      <td>-0.961480</td>\n",
       "      <td>0.755588</td>\n",
       "      <td>-0.637059</td>\n",
       "      <td>0.608043</td>\n",
       "      <td>-0.023541</td>\n",
       "      <td>-0.114125</td>\n",
       "      <td>0.361315</td>\n",
       "      <td>0.508646</td>\n",
       "      <td>1.152370</td>\n",
       "      <td>-0.153755</td>\n",
       "      <td>-0.242239</td>\n",
       "    </tr>\n",
       "    <tr>\n",
       "      <th>2</th>\n",
       "      <td>-0.961480</td>\n",
       "      <td>0.755588</td>\n",
       "      <td>-0.637059</td>\n",
       "      <td>0.608043</td>\n",
       "      <td>-0.023541</td>\n",
       "      <td>-0.114125</td>\n",
       "      <td>0.361315</td>\n",
       "      <td>0.508646</td>\n",
       "      <td>-0.867777</td>\n",
       "      <td>-0.153755</td>\n",
       "      <td>-0.242239</td>\n",
       "    </tr>\n",
       "    <tr>\n",
       "      <th>3</th>\n",
       "      <td>-0.961480</td>\n",
       "      <td>0.755588</td>\n",
       "      <td>-0.637059</td>\n",
       "      <td>-1.086910</td>\n",
       "      <td>-0.623154</td>\n",
       "      <td>-0.605480</td>\n",
       "      <td>0.361315</td>\n",
       "      <td>0.508646</td>\n",
       "      <td>-0.867777</td>\n",
       "      <td>-0.153755</td>\n",
       "      <td>-0.242239</td>\n",
       "    </tr>\n",
       "    <tr>\n",
       "      <th>4</th>\n",
       "      <td>-0.961480</td>\n",
       "      <td>0.755588</td>\n",
       "      <td>1.569713</td>\n",
       "      <td>-1.086910</td>\n",
       "      <td>-0.623154</td>\n",
       "      <td>-0.605480</td>\n",
       "      <td>0.361315</td>\n",
       "      <td>0.508646</td>\n",
       "      <td>1.152370</td>\n",
       "      <td>-0.153755</td>\n",
       "      <td>-0.242239</td>\n",
       "    </tr>\n",
       "    <tr>\n",
       "      <th>...</th>\n",
       "      <td>...</td>\n",
       "      <td>...</td>\n",
       "      <td>...</td>\n",
       "      <td>...</td>\n",
       "      <td>...</td>\n",
       "      <td>...</td>\n",
       "      <td>...</td>\n",
       "      <td>...</td>\n",
       "      <td>...</td>\n",
       "      <td>...</td>\n",
       "      <td>...</td>\n",
       "    </tr>\n",
       "    <tr>\n",
       "      <th>428</th>\n",
       "      <td>1.040063</td>\n",
       "      <td>2.256367</td>\n",
       "      <td>-0.637059</td>\n",
       "      <td>0.043059</td>\n",
       "      <td>-0.023541</td>\n",
       "      <td>0.275839</td>\n",
       "      <td>0.361315</td>\n",
       "      <td>0.508646</td>\n",
       "      <td>-0.867777</td>\n",
       "      <td>-0.153755</td>\n",
       "      <td>-0.242239</td>\n",
       "    </tr>\n",
       "    <tr>\n",
       "      <th>429</th>\n",
       "      <td>1.040063</td>\n",
       "      <td>-0.745190</td>\n",
       "      <td>-0.637059</td>\n",
       "      <td>-1.086910</td>\n",
       "      <td>-0.623154</td>\n",
       "      <td>-0.660075</td>\n",
       "      <td>0.361315</td>\n",
       "      <td>0.508646</td>\n",
       "      <td>-0.867777</td>\n",
       "      <td>-0.153755</td>\n",
       "      <td>-0.242239</td>\n",
       "    </tr>\n",
       "    <tr>\n",
       "      <th>430</th>\n",
       "      <td>1.040063</td>\n",
       "      <td>-0.745190</td>\n",
       "      <td>-0.637059</td>\n",
       "      <td>0.043059</td>\n",
       "      <td>-0.023541</td>\n",
       "      <td>-0.223315</td>\n",
       "      <td>0.361315</td>\n",
       "      <td>0.508646</td>\n",
       "      <td>-0.867777</td>\n",
       "      <td>-0.153755</td>\n",
       "      <td>-0.242239</td>\n",
       "    </tr>\n",
       "    <tr>\n",
       "      <th>431</th>\n",
       "      <td>1.040063</td>\n",
       "      <td>-0.745190</td>\n",
       "      <td>-0.637059</td>\n",
       "      <td>0.043059</td>\n",
       "      <td>-0.623154</td>\n",
       "      <td>-0.660075</td>\n",
       "      <td>0.361315</td>\n",
       "      <td>0.508646</td>\n",
       "      <td>1.152370</td>\n",
       "      <td>-0.153755</td>\n",
       "      <td>-0.242239</td>\n",
       "    </tr>\n",
       "    <tr>\n",
       "      <th>432</th>\n",
       "      <td>1.040063</td>\n",
       "      <td>-0.745190</td>\n",
       "      <td>-0.637059</td>\n",
       "      <td>2.302996</td>\n",
       "      <td>-0.623154</td>\n",
       "      <td>-0.660075</td>\n",
       "      <td>0.361315</td>\n",
       "      <td>0.508646</td>\n",
       "      <td>-0.867777</td>\n",
       "      <td>-0.153755</td>\n",
       "      <td>-0.242239</td>\n",
       "    </tr>\n",
       "  </tbody>\n",
       "</table>\n",
       "<p>433 rows × 11 columns</p>\n",
       "</div>"
      ],
      "text/plain": [
       "     ticket_type  ticket_level  payment_type  customer_age_band  ticket_qty  \\\n",
       "0      -0.961480      0.755588     -0.637059           0.043059   -0.623154   \n",
       "1      -0.961480      0.755588     -0.637059           0.608043   -0.023541   \n",
       "2      -0.961480      0.755588     -0.637059           0.608043   -0.023541   \n",
       "3      -0.961480      0.755588     -0.637059          -1.086910   -0.623154   \n",
       "4      -0.961480      0.755588      1.569713          -1.086910   -0.623154   \n",
       "..           ...           ...           ...                ...         ...   \n",
       "428     1.040063      2.256367     -0.637059           0.043059   -0.023541   \n",
       "429     1.040063     -0.745190     -0.637059          -1.086910   -0.623154   \n",
       "430     1.040063     -0.745190     -0.637059           0.043059   -0.023541   \n",
       "431     1.040063     -0.745190     -0.637059           0.043059   -0.623154   \n",
       "432     1.040063     -0.745190     -0.637059           2.302996   -0.623154   \n",
       "\n",
       "     ticket_value  customer_previous_purchase_flag  \\\n",
       "0       -0.605480                         0.361315   \n",
       "1       -0.114125                         0.361315   \n",
       "2       -0.114125                         0.361315   \n",
       "3       -0.605480                         0.361315   \n",
       "4       -0.605480                         0.361315   \n",
       "..            ...                              ...   \n",
       "428      0.275839                         0.361315   \n",
       "429     -0.660075                         0.361315   \n",
       "430     -0.223315                         0.361315   \n",
       "431     -0.660075                         0.361315   \n",
       "432     -0.660075                         0.361315   \n",
       "\n",
       "     customer_previous_purchase_festival_flag  \\\n",
       "0                                   -1.966003   \n",
       "1                                    0.508646   \n",
       "2                                    0.508646   \n",
       "3                                    0.508646   \n",
       "4                                    0.508646   \n",
       "..                                        ...   \n",
       "428                                  0.508646   \n",
       "429                                  0.508646   \n",
       "430                                  0.508646   \n",
       "431                                  0.508646   \n",
       "432                                  0.508646   \n",
       "\n",
       "     customer_previous_purchase_music_flag  \\\n",
       "0                                 1.152370   \n",
       "1                                 1.152370   \n",
       "2                                -0.867777   \n",
       "3                                -0.867777   \n",
       "4                                 1.152370   \n",
       "..                                     ...   \n",
       "428                              -0.867777   \n",
       "429                              -0.867777   \n",
       "430                              -0.867777   \n",
       "431                               1.152370   \n",
       "432                              -0.867777   \n",
       "\n",
       "     customer_previous_purchase_theatre_flag  \\\n",
       "0                                  -0.153755   \n",
       "1                                  -0.153755   \n",
       "2                                  -0.153755   \n",
       "3                                  -0.153755   \n",
       "4                                  -0.153755   \n",
       "..                                       ...   \n",
       "428                                -0.153755   \n",
       "429                                -0.153755   \n",
       "430                                -0.153755   \n",
       "431                                -0.153755   \n",
       "432                                -0.153755   \n",
       "\n",
       "     customer_previous_purchase_sport_flag  \n",
       "0                                -0.242239  \n",
       "1                                -0.242239  \n",
       "2                                -0.242239  \n",
       "3                                -0.242239  \n",
       "4                                -0.242239  \n",
       "..                                     ...  \n",
       "428                              -0.242239  \n",
       "429                              -0.242239  \n",
       "430                              -0.242239  \n",
       "431                              -0.242239  \n",
       "432                              -0.242239  \n",
       "\n",
       "[433 rows x 11 columns]"
      ]
     },
     "execution_count": 21,
     "metadata": {},
     "output_type": "execute_result"
    }
   ],
   "source": [
    "#instantiate scaler class\n",
    "\n",
    "scaler = StandardScaler()\n",
    "\n",
    "#fit scaler to data\n",
    "\n",
    "scaler.fit(dataset_encoded)\n",
    "\n",
    "#transform data \n",
    "\n",
    "scaled_features = scaler.transform(dataset_encoded)\n",
    "\n",
    "#load scaled data into dataframe\n",
    "\n",
    "scaled_data = pd.DataFrame(scaled_features, columns = dataset_encoded.columns)\n",
    "\n",
    "#visualising scaled data in table\n",
    "\n",
    "scaled_data"
   ]
  },
  {
   "cell_type": "code",
   "execution_count": 22,
   "metadata": {},
   "outputs": [],
   "source": [
    "#instantiate kmeans model class with 6 clusters. \n",
    "\n",
    "kmeans = KMeans(init=\"random\", n_clusters=6, n_init=10, max_iter=300, random_state=42)"
   ]
  },
  {
   "cell_type": "code",
   "execution_count": 23,
   "metadata": {},
   "outputs": [
    {
     "data": {
      "text/plain": [
       "KMeans(algorithm='auto', copy_x=True, init='random', max_iter=300, n_clusters=6,\n",
       "       n_init=10, n_jobs=None, precompute_distances='auto', random_state=42,\n",
       "       tol=0.0001, verbose=0)"
      ]
     },
     "execution_count": 23,
     "metadata": {},
     "output_type": "execute_result"
    }
   ],
   "source": [
    "# Convert DataFrame to matrix\n",
    "mat = scaled_data.values\n",
    "\n",
    "#fit scaled data to model\n",
    "\n",
    "kmeans.fit(mat)"
   ]
  },
  {
   "cell_type": "code",
   "execution_count": 24,
   "metadata": {},
   "outputs": [],
   "source": [
    "#make clusters a column in dataframe\n",
    "\n",
    "dataset['cluster'] = kmeans.labels_ "
   ]
  },
  {
   "cell_type": "code",
   "execution_count": 25,
   "metadata": {},
   "outputs": [
    {
     "data": {
      "text/html": [
       "<div>\n",
       "<style scoped>\n",
       "    .dataframe tbody tr th:only-of-type {\n",
       "        vertical-align: middle;\n",
       "    }\n",
       "\n",
       "    .dataframe tbody tr th {\n",
       "        vertical-align: top;\n",
       "    }\n",
       "\n",
       "    .dataframe thead th {\n",
       "        text-align: right;\n",
       "    }\n",
       "</style>\n",
       "<table border=\"1\" class=\"dataframe\">\n",
       "  <thead>\n",
       "    <tr style=\"text-align: right;\">\n",
       "      <th></th>\n",
       "      <th>ticket_value</th>\n",
       "      <th>ticket_qty</th>\n",
       "    </tr>\n",
       "    <tr>\n",
       "      <th>cluster</th>\n",
       "      <th></th>\n",
       "      <th></th>\n",
       "    </tr>\n",
       "  </thead>\n",
       "  <tbody>\n",
       "    <tr>\n",
       "      <th>0</th>\n",
       "      <td>144.125000</td>\n",
       "      <td>1.600000</td>\n",
       "    </tr>\n",
       "    <tr>\n",
       "      <th>1</th>\n",
       "      <td>198.776596</td>\n",
       "      <td>2.574468</td>\n",
       "    </tr>\n",
       "    <tr>\n",
       "      <th>2</th>\n",
       "      <td>145.105634</td>\n",
       "      <td>1.450704</td>\n",
       "    </tr>\n",
       "    <tr>\n",
       "      <th>3</th>\n",
       "      <td>130.789474</td>\n",
       "      <td>1.557895</td>\n",
       "    </tr>\n",
       "    <tr>\n",
       "      <th>4</th>\n",
       "      <td>589.572368</td>\n",
       "      <td>6.210526</td>\n",
       "    </tr>\n",
       "    <tr>\n",
       "      <th>5</th>\n",
       "      <td>98.019802</td>\n",
       "      <td>1.544554</td>\n",
       "    </tr>\n",
       "  </tbody>\n",
       "</table>\n",
       "</div>"
      ],
      "text/plain": [
       "         ticket_value  ticket_qty\n",
       "cluster                          \n",
       "0          144.125000    1.600000\n",
       "1          198.776596    2.574468\n",
       "2          145.105634    1.450704\n",
       "3          130.789474    1.557895\n",
       "4          589.572368    6.210526\n",
       "5           98.019802    1.544554"
      ]
     },
     "execution_count": 25,
     "metadata": {},
     "output_type": "execute_result"
    }
   ],
   "source": [
    "#average order value and number of tickets for each cluster\n",
    "\n",
    "dataset.groupby('cluster')['ticket_value','ticket_qty'].mean()"
   ]
  },
  {
   "cell_type": "code",
   "execution_count": 26,
   "metadata": {},
   "outputs": [
    {
     "data": {
      "text/plain": [
       "cluster\n",
       "0     90.078125\n",
       "1     77.210744\n",
       "2    100.024272\n",
       "3     83.952703\n",
       "4     94.931144\n",
       "5     63.461538\n",
       "dtype: float64"
      ]
     },
     "execution_count": 26,
     "metadata": {},
     "output_type": "execute_result"
    }
   ],
   "source": [
    "#average revenue per ticket\n",
    "\n",
    "dataset.groupby('cluster')['ticket_value'].sum() / dataset.groupby('cluster')['ticket_qty'].sum()"
   ]
  },
  {
   "cell_type": "code",
   "execution_count": 27,
   "metadata": {
    "scrolled": false
   },
   "outputs": [
    {
     "data": {
      "text/plain": [
       "cluster\n",
       "0     10\n",
       "1     47\n",
       "2    142\n",
       "3     95\n",
       "4     38\n",
       "5    101\n",
       "Name: ticket_qty, dtype: int64"
      ]
     },
     "execution_count": 27,
     "metadata": {},
     "output_type": "execute_result"
    }
   ],
   "source": [
    "#number of orders in each cluster\n",
    "\n",
    "dataset.groupby('cluster')['ticket_qty'].count()"
   ]
  },
  {
   "cell_type": "code",
   "execution_count": 28,
   "metadata": {
    "scrolled": true
   },
   "outputs": [
    {
     "data": {
      "text/plain": [
       "cluster\n",
       "0     1441.25\n",
       "1     9342.50\n",
       "2    20605.00\n",
       "3    12425.00\n",
       "4    22403.75\n",
       "5     9900.00\n",
       "Name: ticket_value, dtype: float64"
      ]
     },
     "execution_count": 28,
     "metadata": {},
     "output_type": "execute_result"
    }
   ],
   "source": [
    "#total revenue per cluster \n",
    "\n",
    "dataset.groupby('cluster')['ticket_value'].sum()"
   ]
  },
  {
   "cell_type": "markdown",
   "metadata": {},
   "source": [
    "## Analysing best and worst performing clusters"
   ]
  },
  {
   "cell_type": "code",
   "execution_count": 29,
   "metadata": {},
   "outputs": [],
   "source": [
    "#taking only the best and worst performing clusters by total revenue, average order revenue and ticket quantity.\n",
    "\n",
    "dataset_top_bottom = dataset.loc[dataset['cluster'] > 3]"
   ]
  },
  {
   "cell_type": "code",
   "execution_count": 30,
   "metadata": {
    "scrolled": true
   },
   "outputs": [
    {
     "data": {
      "text/plain": [
       "<seaborn.axisgrid.FacetGrid at 0x12b1b2250>"
      ]
     },
     "execution_count": 30,
     "metadata": {},
     "output_type": "execute_result"
    },
    {
     "data": {
      "image/png": "[encoded data removed]",
      "text/plain": [
       "<Figure size 900x360 with 8 Axes>"
      ]
     },
     "metadata": {
      "needs_background": "light"
     },
     "output_type": "display_data"
    }
   ],
   "source": [
    "new_var=dataset_top_bottom[['cluster', 'customer_age_band']]\n",
    "sns.catplot('cluster', col='customer_age_band', data=new_var, kind='count', height=2.5, aspect=1, col_wrap=5)"
   ]
  },
  {
   "cell_type": "code",
   "execution_count": 31,
   "metadata": {},
   "outputs": [
    {
     "data": {
      "text/plain": [
       "<AxesSubplot:>"
      ]
     },
     "execution_count": 31,
     "metadata": {},
     "output_type": "execute_result"
    },
    {
     "data": {
      "image/png": "[encoded data removed]",
      "text/plain": [
       "<Figure size 432x288 with 1 Axes>"
      ]
     },
     "metadata": {
      "needs_background": "light"
     },
     "output_type": "display_data"
    }
   ],
   "source": [
    "#distribution of spend per order for cluster 4\n",
    "\n",
    "dataset.loc[dataset['cluster'] ==4]['ticket_value'].hist()"
   ]
  },
  {
   "cell_type": "code",
   "execution_count": 32,
   "metadata": {
    "scrolled": false
   },
   "outputs": [
    {
     "data": {
      "text/plain": [
       "<AxesSubplot:>"
      ]
     },
     "execution_count": 32,
     "metadata": {},
     "output_type": "execute_result"
    },
    {
     "data": {
      "image/png": "[encoded data removed]",
      "text/plain": [
       "<Figure size 432x288 with 1 Axes>"
      ]
     },
     "metadata": {
      "needs_background": "light"
     },
     "output_type": "display_data"
    }
   ],
   "source": [
    "#distribution of spend per order for cluster 5\n",
    "\n",
    "dataset.loc[dataset['cluster'] ==5]['ticket_value'].hist()"
   ]
  },
  {
   "cell_type": "code",
   "execution_count": 33,
   "metadata": {},
   "outputs": [
    {
     "data": {
      "text/plain": [
       "<seaborn.axisgrid.FacetGrid at 0x12bf25b10>"
      ]
     },
     "execution_count": 33,
     "metadata": {},
     "output_type": "execute_result"
    },
    {
     "data": {
      "image/png": "[encoded data removed]",
      "text/plain": [
       "<Figure size 900x180 with 3 Axes>"
      ]
     },
     "metadata": {
      "needs_background": "light"
     },
     "output_type": "display_data"
    }
   ],
   "source": [
    "#exploring ticket levels in the two clusters\n",
    "\n",
    "new_var=dataset_top_bottom[['cluster', 'ticket_level']]\n",
    "sns.catplot('cluster', col='ticket_level', data=new_var, kind='count', height=2.5, aspect=1, col_wrap=5)"
   ]
  },
  {
   "cell_type": "code",
   "execution_count": 34,
   "metadata": {},
   "outputs": [
    {
     "data": {
      "text/plain": [
       "<seaborn.axisgrid.FacetGrid at 0x12c2a2410>"
      ]
     },
     "execution_count": 34,
     "metadata": {},
     "output_type": "execute_result"
    },
    {
     "data": {
      "image/png": "[encoded data removed]",
      "text/plain": [
       "<Figure size 1035x180 with 2 Axes>"
      ]
     },
     "metadata": {
      "needs_background": "light"
     },
     "output_type": "display_data"
    }
   ],
   "source": [
    "#previous purchase flag in clusters\n",
    "\n",
    "new_var=dataset_top_bottom[['cluster', 'customer_previous_purchase_flag']]\n",
    "sns.catplot('cluster', col='customer_previous_purchase_flag', data=new_var, kind='count', height=2.5, aspect=1.15, col_wrap=5)"
   ]
  },
  {
   "cell_type": "code",
   "execution_count": 35,
   "metadata": {},
   "outputs": [
    {
     "data": {
      "text/plain": [
       "<seaborn.axisgrid.FacetGrid at 0x12c3cf310>"
      ]
     },
     "execution_count": 35,
     "metadata": {},
     "output_type": "execute_result"
    },
    {
     "data": {
      "image/png": "[encoded data removed]",
      "text/plain": [
       "<Figure size 1215x180 with 2 Axes>"
      ]
     },
     "metadata": {
      "needs_background": "light"
     },
     "output_type": "display_data"
    }
   ],
   "source": [
    "#exploring festival purchase flag in clusters\n",
    "\n",
    "new_var=dataset_top_bottom[['cluster', 'customer_previous_purchase_festival_flag']]\n",
    "sns.catplot('cluster', col='customer_previous_purchase_festival_flag', data=new_var, kind='count', height=2.5, aspect=1.35, col_wrap=5)\n",
    "\n"
   ]
  },
  {
   "cell_type": "markdown",
   "metadata": {},
   "source": [
    "# Insights \n",
    "\n",
    "1. Looking at how ticket purchases are distributed over time - most are bought at the start and the end of each time series for each year of the festival. Assumption that this corresponds to start of sales and start of festival. If festival tickets are not selling out, how can we sustain interest during the months inbetween ticket launch and the event itself? \n",
    "\n",
    "2. Looking at your most valuable and least valuable customers by revenue. Who are they. \n",
    "\n",
    "Cluster 5 \"Low spenders\" - lowest total revenue and lowest revenue per order\n",
    "- all bought P1 tickets\n",
    "- 1.5 tickets bought on average per order\n",
    "- all had previous purchases with ticket master \n",
    "- much greater proportion had previous ticket purchase than cluster 4\n",
    "\n",
    "Cluster 4 \"Big Spenders\"- highest total revenue and highest revenue per order\n",
    "- less than half bought P1 tickets, maybe 10/50 bought VIP, the rest were p2 \n",
    "- on average bought 6 tickets per order\n",
    "- circa 20% had not bought anything on Ticket Master previously. \n",
    "\n",
    "Conclusions for point 2: Big spenders not only bought the most tickets but they bought on average the second most expensive tickets. \n",
    "\n",
    "Who are these people? \n",
    "\n",
    "Big Spenders - Organisers, perhaps people who organise a motivate a group. \n",
    "\n",
    "Low Spenders: These are customers that have bought with Ticket Master before, so we may have more data. How can we entice them to come back? Multi-ticket deals could be an option?\n",
    "\n",
    "3. Ticket sales went down pretty drastically from 1997 to 1998, down 48% and back up marginally by 4% in 1999, revenue naturally reflected similar changes. \n",
    "\n",
    "Has the size of the festival changed? Are there other factors at play? "
   ]
  },
  {
   "cell_type": "markdown",
   "metadata": {},
   "source": [
    "Extra points\n",
    "\n",
    "1. 50-60 age bracket very small proportion of total revenue but were highest spenders per order\n",
    "2. Installment tickets were far more popular with the 15-30 age bands than the rest. \n",
    "3. Customers who had not previously bought a festival ticket on average bought 50% more tickets per order\n",
    "4. Error in data to point out: some customers have been flagged as no previous purchase but have also been flagged as having a previous festival purchase. "
   ]
  },
  {
   "cell_type": "markdown",
   "metadata": {},
   "source": [
    "Datapoints I would like to see\n",
    "\n",
    "1. Were the festivals sold out? Was there spare capacity in VIP tickets for example?\n",
    "2. Estimates for festival life value of Day/Camping customers and VIP vs regular\n",
    "3. Is it possibile to track spending - QR code bracelet for instance, this might allow us to track who are the true highest value customers overall."
   ]
  }
 ],
 "metadata": {
  "kernelspec": {
   "display_name": "Python 3",
   "language": "python",
   "name": "python3"
  },
  "language_info": {
   "codemirror_mode": {
    "name": "ipython",
    "version": 3
   },
   "file_extension": ".py",
   "mimetype": "text/x-python",
   "name": "python",
   "nbconvert_exporter": "python",
   "pygments_lexer": "ipython3",
   "version": "3.7.4"
  },
  "toc": {
   "base_numbering": 1,
   "nav_menu": {},
   "number_sections": false,
   "sideBar": true,
   "skip_h1_title": false,
   "title_cell": "Table of Contents",
   "title_sidebar": "Contents",
   "toc_cell": false,
   "toc_position": {},
   "toc_section_display": true,
   "toc_window_display": true
  }
 },
 "nbformat": 4,
 "nbformat_minor": 2
}
